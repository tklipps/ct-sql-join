{
 "cells": [
  {
   "cell_type": "markdown",
   "id": "a4c13385",
   "metadata": {},
   "source": [
    "-- Create Two Tables:\n",
    "    -- customer table\n",
    "        -- customer_id <-- PK\n",
    "        -- first_name : string's length of 100\n",
    "        -- last_name  : string's length of 100\n",
    "        -- email : string's length of 200\n",
    "        -- address  : string's length of 150\n",
    "        -- city  : string's length of 150\n",
    "        -- customer_state  : string's length of 100\n",
    "        -- zip code  : string's length of 50\n",
    "\n",
    "    -- order table\n",
    "        -- order_id <-- PK\n",
    "        -- order_date : if nothing is inserted use the current date\n",
    "        -- amount : number with 2 decimal places\n",
    "        -- customer_id <-- FK"
   ]
  },
  {
   "cell_type": "code",
   "execution_count": null,
   "id": "181ceaf2",
   "metadata": {},
   "outputs": [],
   "source": []
  }
 ],
 "metadata": {
  "kernelspec": {
   "display_name": "Python 3",
   "language": "python",
   "name": "python3"
  },
  "language_info": {
   "codemirror_mode": {
    "name": "ipython",
    "version": 3
   },
   "file_extension": ".py",
   "mimetype": "text/x-python",
   "name": "python",
   "nbconvert_exporter": "python",
   "pygments_lexer": "ipython3",
   "version": "3.8.8"
  }
 },
 "nbformat": 4,
 "nbformat_minor": 5
}
